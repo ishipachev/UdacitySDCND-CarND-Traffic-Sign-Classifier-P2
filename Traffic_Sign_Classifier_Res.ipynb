{
 "cells": [
  {
   "cell_type": "markdown",
   "metadata": {},
   "source": [
    "# Self-Driving Car Engineer Nanodegree\n",
    "\n",
    "## Deep Learning\n",
    "\n",
    "## Project: Build a Traffic Sign Recognition Classifier\n",
    "\n"
   ]
  },
  {
   "cell_type": "markdown",
   "metadata": {},
   "source": [
    "---\n",
    "## Step 0: Load The Data"
   ]
  },
  {
   "cell_type": "code",
   "execution_count": null,
   "metadata": {},
   "outputs": [],
   "source": [
    "### Load pickled data and size check\n",
    "\n",
    "import pickle\n",
    "import numpy as np\n",
    "\n",
    "#Fill this in based on where you saved the training and testing data\n",
    "training_file = 'traffic_signs_data/train.p'\n",
    "validation_file= 'traffic_signs_data/valid.p'\n",
    "testing_file = 'traffic_signs_data/test.p'\n",
    "\n",
    "with open(training_file, mode='rb') as f:\n",
    "    train = pickle.load(f)\n",
    "with open(validation_file, mode='rb') as f:\n",
    "    valid = pickle.load(f)\n",
    "with open(testing_file, mode='rb') as f:\n",
    "    test = pickle.load(f)\n",
    "    \n",
    "X_train_src, y_train = train['features'], train['labels']\n",
    "X_valid_src, y_valid = valid['features'], valid['labels']\n",
    "X_test_src, y_test = test['features'], test['labels']\n",
    "\n",
    "#Verification\n",
    "assert(len(X_train_src) == len(y_train))\n",
    "assert(len(X_valid_src) == len(y_valid))\n",
    "assert(len(X_test_src) == len(y_test))"
   ]
  },
  {
   "cell_type": "markdown",
   "metadata": {},
   "source": [
    "---\n",
    "\n",
    "## Step 1: Dataset Summary & Exploration\n"
   ]
  },
  {
   "cell_type": "markdown",
   "metadata": {},
   "source": [
    "### Provide a Basic Summary of the Data Set Using Python, Numpy and/or Pandas"
   ]
  },
  {
   "cell_type": "code",
   "execution_count": null,
   "metadata": {},
   "outputs": [],
   "source": [
    "### Init values of dataset sizes\n",
    "\n",
    "#Number of training examples\n",
    "n_train = len(X_train_src)\n",
    "\n",
    "#Number of validation examples\n",
    "n_validation = len(X_valid_src)\n",
    "\n",
    "#Number of testing examples.\n",
    "n_test = len(X_test_src)\n",
    "\n",
    "#What's the shape of an traffic sign image?\n",
    "image_shape = X_train_src[0].shape\n",
    "\n",
    "#How many unique classes/labels there are in the dataset.\n",
    "n_classes = len(set(y_valid))\n",
    "\n",
    "print(\"Number of training examples =\", n_train)\n",
    "print(\"Number of validation examples =\", n_validation)\n",
    "print(\"Number of testing examples =\", n_test)\n",
    "print(\"Image data shape =\", image_shape)\n",
    "print(\"Number of classes =\", n_classes)"
   ]
  },
  {
   "cell_type": "markdown",
   "metadata": {},
   "source": [
    "### Include an exploratory visualization of the dataset"
   ]
  },
  {
   "cell_type": "code",
   "execution_count": null,
   "metadata": {},
   "outputs": [],
   "source": [
    "### Data exploration visualization code goes here.\n",
    "### Feel free to use as many code cells as needed.\n",
    "import matplotlib.pyplot as plt\n",
    "# Visualizations will be shown in the notebook.\n",
    "%matplotlib inline"
   ]
  },
  {
   "cell_type": "code",
   "execution_count": null,
   "metadata": {},
   "outputs": [],
   "source": [
    "# Creating dictionary ClassId -> NameStr\n",
    "import csv\n",
    "\n",
    "signnames_file = 'signnames.csv'\n",
    "signs_dict = {}\n",
    "with open(signnames_file) as signnames:\n",
    "    reader = csv.DictReader(signnames, delimiter=',')\n",
    "    for row in reader:\n",
    "        signs_dict[int(row['ClassId'])] = row['SignName']"
   ]
  },
  {
   "cell_type": "code",
   "execution_count": null,
   "metadata": {},
   "outputs": [],
   "source": [
    "### Displaying some images from validation dataset\n",
    "import random\n",
    "\n",
    "demo_pic_cnt = 3\n",
    "\n",
    "plt.figure(figsize=(15,10))\n",
    "for i in range(demo_pic_cnt):\n",
    "    index = random.randint(0, len(X_valid_src))\n",
    "    demo_img_src = X_valid_src[index]\n",
    "    title_str_src = signs_dict[y_valid[index]]\n",
    "\n",
    "    plt.subplot(1, demo_pic_cnt, i+1)\n",
    "    plt.imshow(demo_img_src)\n",
    "    plt.title(title_str_src)"
   ]
  },
  {
   "cell_type": "code",
   "execution_count": null,
   "metadata": {},
   "outputs": [],
   "source": [
    "### Counting and plotting number of images per class id\n",
    "\n",
    "\n",
    "id_cnt = np.array([[idx, y_train.tolist().count(idx)] for idx in set(y_train.tolist())])\n",
    "\n",
    "plt.figure(figsize=(20,10))\n",
    "plt.stem(id_cnt[:,0], id_cnt[:,1])\n",
    "plt.xlabel('Class ID');\n",
    "plt.ylabel('Number of elements in class')"
   ]
  },
  {
   "cell_type": "markdown",
   "metadata": {},
   "source": [
    "----\n",
    "\n",
    "## Step 2: Design and Test a Model Architecture\n",
    "\n"
   ]
  },
  {
   "cell_type": "markdown",
   "metadata": {},
   "source": [
    "### Pre-process the Data Set (normalization, grayscale, etc.)"
   ]
  },
  {
   "cell_type": "code",
   "execution_count": null,
   "metadata": {},
   "outputs": [],
   "source": [
    "### Data preprocessing\n",
    "import numpy as np\n",
    "\n",
    "def normalize_data(X):\n",
    "    X_res = np.zeros(X.shape, dtype=float)\n",
    "    for i in range(len(X)):\n",
    "        img = X[i].astype(dtype=float)\n",
    "        img -= np.min(img)\n",
    "        img /= np.max(img)\n",
    "        X_res[i] = img\n",
    "    return X_res\n",
    "        \n",
    "X_train = normalize_data(X_train_src)\n",
    "X_valid = normalize_data(X_valid_src)\n",
    "X_test = normalize_data(X_test_src)"
   ]
  },
  {
   "cell_type": "code",
   "execution_count": null,
   "metadata": {},
   "outputs": [],
   "source": [
    "# Displaying image preprocessing and normalisation\n",
    "import random\n",
    "\n",
    "demo_pic_cnt = 3\n",
    "\n",
    "plt.figure(figsize=(15,10))\n",
    "for i in range(demo_pic_cnt):\n",
    "    index = random.randint(0, len(X_valid))\n",
    "    demo_img_src = X_valid_src[index]\n",
    "    demo_img = X_valid[index]\n",
    "    \n",
    "    title_str_src = signs_dict[y_valid[index]] + ', before'\n",
    "    title_str = signs_dict[y_valid[index]] + ', after'\n",
    "\n",
    "    plt.subplot(2, demo_pic_cnt, i+1)\n",
    "    plt.imshow(demo_img_src)\n",
    "    plt.title(title_str_src)\n",
    "    \n",
    "    plt.subplot(2, demo_pic_cnt, i+1+demo_pic_cnt)\n",
    "    plt.imshow(demo_img)\n",
    "    plt.title(title_str)"
   ]
  },
  {
   "cell_type": "markdown",
   "metadata": {},
   "source": [
    "### Model Architecture"
   ]
  },
  {
   "cell_type": "code",
   "execution_count": null,
   "metadata": {},
   "outputs": [],
   "source": [
    "### LeNet architecture with 32*32*3 input size\n",
    "\n",
    "from tensorflow.contrib.layers import flatten\n",
    "\n",
    "\n",
    "def conv2d(x, W, b, strides=1):\n",
    "    x = tf.nn.conv2d(x, W, strides=[1, strides, strides, 1], padding='VALID')\n",
    "    x = tf.nn.bias_add(x, b)\n",
    "    return x\n",
    "\n",
    "\n",
    "def maxpool2d(x, k=2):\n",
    "    return tf.nn.max_pool(\n",
    "        x,\n",
    "        ksize=[1, k, k, 1],\n",
    "        strides=[1, k, k, 1],\n",
    "        padding='VALID')\n",
    "\n",
    "\n",
    "def LeNet(x, keep_probability):    \n",
    "    # Arguments used for tf.truncated_normal, randomly defines variables for the weights and biases for each layer\n",
    "    mu = 0\n",
    "    sigma = 0.1\n",
    "    n_classes = 43\n",
    "    \n",
    "    weights = {\n",
    "        'wc1': tf.Variable(tf.truncated_normal([5, 5, 3, 6], mean=mu, stddev=sigma)),\n",
    "        'wc2': tf.Variable(tf.truncated_normal([5, 5, 6, 16], mean=mu, stddev=sigma)),\n",
    "        'wfc1':tf.Variable(tf.truncated_normal([400, 120], mean=mu, stddev=sigma)),\n",
    "        'wfc2':tf.Variable(tf.truncated_normal([120, 84], mean=mu, stddev=sigma)),\n",
    "        'out': tf.Variable(tf.truncated_normal([84, n_classes], mean=mu, stddev=sigma))}\n",
    "\n",
    "    biases = {\n",
    "        'bc1': tf.Variable(tf.truncated_normal([6], mean=mu, stddev=sigma)),\n",
    "        'bc2': tf.Variable(tf.truncated_normal([16], mean=mu, stddev=sigma)),\n",
    "        'bfc1':tf.Variable(tf.truncated_normal([120], mean=mu, stddev=sigma)),\n",
    "        'bfc2':tf.Variable(tf.truncated_normal([84], mean=mu, stddev=sigma)),\n",
    "        'out': tf.Variable(tf.truncated_normal([n_classes], mean=mu, stddev=sigma))}\n",
    "    \n",
    "    #Layer 1: Convolutional. Input = 32x32x3. Output = 28x28x6.\n",
    "    conv1 = conv2d(x, weights['wc1'], biases['bc1'], 1)\n",
    "    \n",
    "    #Activation.\n",
    "    conv1 = tf.nn.relu(conv1)\n",
    "    \n",
    "    #Pooling. Input = 28x28x6. Output = 14x14x6.\n",
    "    conv1p = maxpool2d(conv1, 2)\n",
    "    \n",
    "    #Layer 2: Convolutional. Output = 10x10x16.\n",
    "    conv2 = conv2d(conv1p, weights['wc2'], biases['bc2'], 1)\n",
    "    \n",
    "    #Activation.\n",
    "    conv2 = tf.nn.relu(conv2)\n",
    "    \n",
    "    #Pooling. Input = 10x10x16. Output = 5x5x16.\n",
    "    conv2p = maxpool2d(conv2, 2)                   \n",
    "    \n",
    "    #Flatten. Input = 5x5x16. Output = 400.\n",
    "    conv2p = tf.contrib.layers.flatten(conv2p)                  \n",
    "        \n",
    "    #Layer 3: Fully Connected. Input = 400. Output = 120.\n",
    "    fc1 = tf.add(tf.matmul(conv2p, weights['wfc1']), biases['bfc1'])\n",
    "\n",
    "    #Activation.\n",
    "    fc1 = tf.nn.relu(fc1)\n",
    "    fc1 = tf.nn.dropout(fc1, keep_probability)\n",
    "\n",
    "    #Layer 4: Fully Connected. Input = 120. Output = 84.\n",
    "    fc2 = tf.add(tf.matmul(fc1, weights['wfc2']), biases['bfc2'])\n",
    "    \n",
    "    #Activation.\n",
    "    fc2 = tf.nn.relu(fc2)\n",
    "    fc2 = tf.nn.dropout(fc2, keep_probability)\n",
    "    \n",
    "    #Layer 5: Fully Connected. Input = 84. Output = 43.\n",
    "    logits = tf.add(tf.matmul(fc2, weights['out']), biases['out'])\n",
    "    \n",
    "    return logits, conv1"
   ]
  },
  {
   "cell_type": "code",
   "execution_count": null,
   "metadata": {},
   "outputs": [],
   "source": [
    "### Network for testing purposes (not used in trainig, just for debugging purpose)\n",
    "def TestNet(x, keep_probability):  \n",
    "    \n",
    "    mu = 0\n",
    "    sigma = 0.1\n",
    "    n_classes = 43\n",
    "    weights = {'wc1': tf.Variable(tf.truncated_normal([5, 5, 1, 6], mean=mu, stddev=sigma)),\n",
    "               'wfc1out':tf.Variable(tf.truncated_normal([4704, n_classes], mean=mu, stddev=sigma))}\n",
    "    biases = {'bc1': tf.Variable(tf.truncated_normal([6], mean=mu, stddev=sigma)), \n",
    "              'bfc1out':tf.Variable(tf.truncated_normal([n_classes], mean=mu, stddev=sigma)),}\n",
    "    \n",
    "    #Layer 1: Convolutional. Input = 32x32x1. Output = 28x28x6.\n",
    "    conv1 = conv2d(x, weights['wc1'], biases['bc1'], 1)\n",
    "    \n",
    "    #Flatten. Input = 28x28x6. Output = 4704.\n",
    "    conv2 = tf.contrib.layers.flatten(conv1)\n",
    "    \n",
    "    logits = tf.add(tf.matmul(conv2, weights['wfc1out']), biases['bfc1out'])\n",
    "    \n",
    "    return logits"
   ]
  },
  {
   "cell_type": "markdown",
   "metadata": {},
   "source": [
    "### Train, Validate and Test the Model"
   ]
  },
  {
   "cell_type": "code",
   "execution_count": null,
   "metadata": {},
   "outputs": [],
   "source": [
    "### Setting down network parameters\n",
    "\n",
    "import tensorflow as tf\n",
    "\n",
    "EPOCHS = 100\n",
    "BATCH_SIZE = 512\n",
    "rate = 0.001"
   ]
  },
  {
   "cell_type": "code",
   "execution_count": null,
   "metadata": {},
   "outputs": [],
   "source": [
    "### Initial declaration\n",
    "\n",
    "#batch place holders\n",
    "x = tf.placeholder(tf.float32, (None, 32, 32, 3))\n",
    "y = tf.placeholder(tf.int32, (None))\n",
    "\n",
    "#Dropout variable\n",
    "keep_probability = tf.placeholder(tf.float32)\n",
    "\n",
    "one_hot_y = tf.one_hot(y, n_classes)"
   ]
  },
  {
   "cell_type": "code",
   "execution_count": null,
   "metadata": {},
   "outputs": [],
   "source": [
    "### Network pipeline\n",
    "\n",
    "# layer_out will be used to show weight activation on a custom data input\n",
    "[logits, layer_out] = LeNet(x, keep_probability)\n",
    "cross_entropy = tf.nn.softmax_cross_entropy_with_logits(labels=one_hot_y, logits=logits)\n",
    "loss_operation = tf.reduce_mean(cross_entropy)\n",
    "optimizer = tf.train.AdamOptimizer(learning_rate = rate)\n",
    "training_operation = optimizer.minimize(loss_operation)"
   ]
  },
  {
   "cell_type": "code",
   "execution_count": null,
   "metadata": {},
   "outputs": [],
   "source": [
    "### Model evaluation\n",
    "\n",
    "correct_prediction = tf.equal(tf.argmax(logits, 1), tf.argmax(one_hot_y, 1))\n",
    "accuracy_operation = tf.reduce_mean(tf.cast(correct_prediction, tf.float32))\n",
    "saver = tf.train.Saver()\n",
    "\n",
    "def evaluate(X_data, y_data):\n",
    "    num_examples = len(X_data)\n",
    "    total_accuracy = 0\n",
    "    dropout = 1.0\n",
    "    sess = tf.get_default_session()\n",
    "    for offset in range(0, num_examples, BATCH_SIZE):\n",
    "        batch_x, batch_y = X_data[offset:offset+BATCH_SIZE], y_data[offset:offset+BATCH_SIZE]\n",
    "        accuracy = sess.run(accuracy_operation, feed_dict={x: batch_x, y: batch_y, keep_probability: dropout})\n",
    "        total_accuracy += (accuracy * len(batch_x))\n",
    "    return total_accuracy / num_examples"
   ]
  },
  {
   "cell_type": "code",
   "execution_count": null,
   "metadata": {},
   "outputs": [],
   "source": [
    "### Model train\n",
    "\n",
    "from sklearn.utils import shuffle\n",
    "\n",
    "with tf.Session() as sess:\n",
    "    sess.run(tf.global_variables_initializer())\n",
    "    num_examples = len(X_train)\n",
    "    \n",
    "    print(\"Training...\")\n",
    "    print()\n",
    "    for i in range(EPOCHS):\n",
    "        X_train, y_train = shuffle(X_train, y_train)\n",
    "        dropout = 0.4\n",
    "#         dropout = 0.5\n",
    "#         dropout = 0.7\n",
    "        for offset in range(0, num_examples, BATCH_SIZE):\n",
    "            end = offset + BATCH_SIZE\n",
    "            batch_x, batch_y = X_train[offset:end], y_train[offset:end]\n",
    "            sess.run(training_operation, feed_dict={x: batch_x, y: batch_y, keep_probability: dropout})\n",
    "            \n",
    "        validation_accuracy = evaluate(X_valid, y_valid)\n",
    "        print(\"EPOCH {} ...\".format(i+1))\n",
    "        print(\"Validation Accuracy = {:.3f}\".format(validation_accuracy))\n",
    "        print()\n",
    "        \n",
    "    saver.save(sess, './lenet_traffic')\n",
    "    print(\"Model saved\")"
   ]
  },
  {
   "cell_type": "code",
   "execution_count": null,
   "metadata": {},
   "outputs": [],
   "source": [
    "### Evaluation of model on test dataset\n",
    "\n",
    "with tf.Session() as sess:\n",
    "    saver.restore(sess, tf.train.latest_checkpoint('.'))\n",
    "\n",
    "    train_accuracy = evaluate(X_train, y_train)\n",
    "    print(\"Train Accuracy = {:.3f}\".format(train_accuracy))\n",
    "\n",
    "    valid_accuracy = evaluate(X_valid, y_valid)\n",
    "    print(\"Validation Accuracy = {:.3f}\".format(valid_accuracy))\n",
    "    \n",
    "    test_accuracy = evaluate(X_test, y_test)\n",
    "    print(\"Test Accuracy = {:.3f}\".format(test_accuracy))"
   ]
  },
  {
   "cell_type": "markdown",
   "metadata": {},
   "source": [
    "---\n",
    "\n",
    "## Step 3: Test a Model on New Images\n"
   ]
  },
  {
   "cell_type": "markdown",
   "metadata": {},
   "source": [
    "### Load and Output the Images"
   ]
  },
  {
   "cell_type": "code",
   "execution_count": null,
   "metadata": {},
   "outputs": [],
   "source": [
    "### Reading custom data from internet to variable\n",
    "\n",
    "import cv2\n",
    "import glob\n",
    "import numpy as np\n",
    "import matplotlib.pyplot as plt\n",
    "\n",
    "path = 'my_data/cropped/sized/*.bmp'\n",
    "files = glob.glob(path)\n",
    "\n",
    "batch_size = len(files)\n",
    "batch_x = np.zeros((batch_size, 32, 32, 3), dtype=np.uint8)\n",
    "\n",
    "for i in range(batch_size):\n",
    "    img = cv2.imread(files[i])\n",
    "    img = cv2.cvtColor(img, cv2.COLOR_BGR2RGB)\n",
    "    batch_x[i, :, :, :] = np.copy(img)\n",
    "\n",
    "X_mydata = normalize_data(batch_x)"
   ]
  },
  {
   "cell_type": "code",
   "execution_count": null,
   "metadata": {},
   "outputs": [],
   "source": [
    "### Reading the csv-file with class id number and its name pairs\n",
    "\n",
    "import csv\n",
    "\n",
    "# Create Dictionary\n",
    "signnames_file = 'signnames.csv'\n",
    "signs_dict = {}\n",
    "with open(signnames_file) as signnames:\n",
    "    reader = csv.DictReader(signnames, delimiter=',')\n",
    "    for row in reader:\n",
    "        signs_dict[int(row['ClassId'])] = row['SignName']"
   ]
  },
  {
   "cell_type": "markdown",
   "metadata": {},
   "source": [
    "### Predict the Sign Type for Each Image"
   ]
  },
  {
   "cell_type": "code",
   "execution_count": null,
   "metadata": {},
   "outputs": [],
   "source": [
    "### Processing custom data and visualizating results\n",
    "\n",
    "with tf.Session() as sess:\n",
    "    saver.restore(sess, tf.train.latest_checkpoint('.'))\n",
    "    \n",
    "    prediction = tf.argmax(tf.nn.softmax(logits), 1)\n",
    "    top_k      = tf.nn.top_k(tf.nn.softmax(logits), k=5)\n",
    "    dropout = 1\n",
    "    results, probabilities = sess.run([prediction, top_k], feed_dict={x: X_mydata, keep_probability: dropout})\n",
    "\n",
    "\n",
    "columns = 5\n",
    "plt.figure(figsize=(20,10))\n",
    "for i in range(len(X_mydata)):\n",
    "    plt.subplot(len(X_mydata) / columns + 1, columns, i + 1)\n",
    "    plt.imshow(X_mydata[i])\n",
    "    plt.title(signs_dict[results[i]])\n"
   ]
  },
  {
   "cell_type": "markdown",
   "metadata": {},
   "source": [
    "### Analyze Performance"
   ]
  },
  {
   "cell_type": "code",
   "execution_count": null,
   "metadata": {},
   "outputs": [],
   "source": [
    "### Performance calculation\n",
    "\n",
    "total_num = len(X_mydata)\n",
    "correct_num = 8\n",
    "mydata_accuracy = correct_num / total_num\n",
    "\n",
    "print(\"Accuracy for custom data from internet is %.3f\" % mydata_accuracy)"
   ]
  },
  {
   "cell_type": "markdown",
   "metadata": {},
   "source": [
    "### Output Top 5 Softmax Probabilities For Each Image Found on the Web"
   ]
  },
  {
   "cell_type": "code",
   "execution_count": null,
   "metadata": {},
   "outputs": [],
   "source": [
    "### Printing pseudoprobabilities and classes\n",
    "\n",
    "np.set_printoptions(precision = 8, suppress = True)\n",
    "\n",
    "print(probabilities.values)\n",
    "print(probabilities.indices)\n",
    "\n",
    "top_k_num = 5\n",
    "\n",
    "for i in range(len(X_mydata)):\n",
    "#     print(\"| Probability         \t|     Prediction\t        \t\t\t\t\t|\")\n",
    "#     print(\"|:---------------------:|:---------------------------------------------:|\")\n",
    "    print(\"Pic\")\n",
    "    for j in range(top_k_num):\n",
    "        print(\"|%0.3f | %s\" % (probabilities.values[i,j], signs_dict[probabilities.indices[i,j]]))"
   ]
  },
  {
   "cell_type": "markdown",
   "metadata": {},
   "source": [
    "---\n",
    "\n",
    "## Step 4 (Optional): Visualize the Neural Network's State with Test Images\n",
    "\n"
   ]
  },
  {
   "cell_type": "code",
   "execution_count": null,
   "metadata": {
    "scrolled": true
   },
   "outputs": [],
   "source": [
    "### Visualization of a two first layers bypassing by the custom data\n",
    "def outputFeatureMap(image_input, tf_activation, activation_min=-1, activation_max=-1 ,plt_num=1):\n",
    "    activation = sess.run(tf_activation, feed_dict={x: image_input})\n",
    "    featuremaps = activation.shape[3]\n",
    "    plt.figure(plt_num, figsize=(15,15))\n",
    "    for featuremap in range(featuremaps):\n",
    "        plt.subplot(6,8, featuremap+1) # sets the number of feature maps to show on each row and column\n",
    "        plt.title('FeatureMap ' + str(featuremap)) # displays the feature map number\n",
    "        if activation_min != -1 & activation_max != -1:\n",
    "            plt.imshow(activation[0,:,:, featuremap], interpolation=\"nearest\", vmin =activation_min, vmax=activation_max, cmap=\"gray\")\n",
    "        elif activation_max != -1:\n",
    "            plt.imshow(activation[0,:,:, featuremap], interpolation=\"nearest\", vmax=activation_max, cmap=\"gray\")\n",
    "        elif activation_min !=-1:\n",
    "            plt.imshow(activation[0,:,:, featuremap], interpolation=\"nearest\", vmin=activation_min, cmap=\"gray\")\n",
    "        else:\n",
    "            plt.imshow(activation[0,:,:, featuremap], interpolation=\"nearest\", cmap=\"gray\")\n",
    "\n",
    "with tf.Session() as sess:\n",
    "    saver.restore(sess, tf.train.latest_checkpoint('.'))\n",
    "    \n",
    "    for i in range(len(X_mydata)):\n",
    "        test_input = np.expand_dims(X_mydata[i],0)\n",
    "        outputFeatureMap(test_input, layer_out, plt_num=i+1)"
   ]
  },
  {
   "cell_type": "code",
   "execution_count": null,
   "metadata": {},
   "outputs": [],
   "source": []
  }
 ],
 "metadata": {
  "anaconda-cloud": {},
  "kernelspec": {
   "display_name": "Python 3",
   "language": "python",
   "name": "python3"
  },
  "language_info": {
   "codemirror_mode": {
    "name": "ipython",
    "version": 3
   },
   "file_extension": ".py",
   "mimetype": "text/x-python",
   "name": "python",
   "nbconvert_exporter": "python",
   "pygments_lexer": "ipython3",
   "version": "3.5.2"
  },
  "widgets": {
   "state": {},
   "version": "1.1.2"
  }
 },
 "nbformat": 4,
 "nbformat_minor": 1
}
